{
 "cells": [
  {
   "cell_type": "code",
   "execution_count": 1,
   "metadata": {},
   "outputs": [],
   "source": [
    "import pandas as pd\n",
    "from pandas import DataFrame\n",
    "import numpy as np\n",
    "import re\n",
    "import matplotlib\n",
    "import matplotlib.pyplot as plt\n",
    "import seaborn as sns"
   ]
  },
  {
   "cell_type": "markdown",
   "metadata": {},
   "source": [
    "### Opening raw data text file loaded from iterating over json based files\n"
   ]
  },
  {
   "cell_type": "code",
   "execution_count": 2,
   "metadata": {},
   "outputs": [],
   "source": [
    "file = open(\"C:\\\\Users\\Silmi\\Desktop\\para1.txt\", \"r\")"
   ]
  },
  {
   "cell_type": "markdown",
   "metadata": {},
   "source": [
    "### Reading all data by line and assign it to a list of sentences"
   ]
  },
  {
   "cell_type": "code",
   "execution_count": 3,
   "metadata": {},
   "outputs": [],
   "source": [
    "doclist = [ line for line in file ]\n",
    "docstr = '' . join(doclist)\n",
    "sentences = re.split(r'[.!?]', docstr)"
   ]
  },
  {
   "cell_type": "code",
   "execution_count": 4,
   "metadata": {},
   "outputs": [],
   "source": [
    "#creating a sentences data frame almost as a seriese\n",
    "df_sentences=pd.DataFrame(sentences,columns=[\" col 1\"])\n",
    "#df_sentences.to_csv (r'C:\\Users\\silmi\\Desktop\\export_dataframe.csv', index = False, header=True)\n",
    "\n"
   ]
  },
  {
   "cell_type": "code",
   "execution_count": 5,
   "metadata": {},
   "outputs": [],
   "source": [
    "df_incubation_sentences= df_sentences[df_sentences[\" col 1\"].str.contains('incubation')]\n"
   ]
  },
  {
   "cell_type": "code",
   "execution_count": null,
   "metadata": {},
   "outputs": [],
   "source": []
  },
  {
   "cell_type": "code",
   "execution_count": 6,
   "metadata": {},
   "outputs": [],
   "source": [
    "text = df_incubation_sentences[' col 1'].values\n",
    "incubation_times=[]\n",
    "float_times=[]\n",
    "int_times=[]"
   ]
  },
  {
   "cell_type": "code",
   "execution_count": 7,
   "metadata": {},
   "outputs": [],
   "source": [
    "for t in text:\n",
    "    for sentence in t.split(\". \"):\n",
    "        if \"incubation\" in sentence:\n",
    "            iday=re.findall(r\" \\d{1,2} day| \\d{1,2}.\\d{1,2} day\",sentence)\n",
    "            if len(iday)==1:\n",
    "                num=iday[0].split(\" \")\n",
    "                incubation_times.append(num[1])\n"
   ]
  },
  {
   "cell_type": "code",
   "execution_count": 8,
   "metadata": {},
   "outputs": [],
   "source": [
    "#including the ranged data -example(3-9)- by taking the average.\n",
    "for row in incubation_times:\n",
    "    if \"-\" in row:\n",
    "        day=row.split('-')\n",
    "       \n",
    "        num1=int(day[0])\n",
    "        num2=int(day[1])\n",
    "        num3=(num1+num2)/2\n",
    "        back=str(num3)\n",
    "        \n",
    "        new=row.replace(row, back)\n",
    "        float_times.append(new)\n",
    "                               \n",
    "\n",
    "        "
   ]
  },
  {
   "cell_type": "code",
   "execution_count": null,
   "metadata": {},
   "outputs": [],
   "source": [
    "\n",
    "\n",
    "\n",
    "        \n",
    " \n",
    "        \n",
    "       \n"
   ]
  },
  {
   "cell_type": "code",
   "execution_count": 9,
   "metadata": {},
   "outputs": [],
   "source": [
    "for row in incubation_times:\n",
    "    if(len(row)<3):\n",
    "        int_times.append(row)\n",
    "    "
   ]
  },
  {
   "cell_type": "code",
   "execution_count": 10,
   "metadata": {},
   "outputs": [],
   "source": [
    "incubation_int_float=[]\n",
    "incubation_int_float=int_times+float_times\n",
    "df_incubation=pd.DataFrame(incubation_int_float, columns=[\"duration\"])\n"
   ]
  },
  {
   "cell_type": "code",
   "execution_count": null,
   "metadata": {},
   "outputs": [],
   "source": [
    "\n"
   ]
  },
  {
   "cell_type": "code",
   "execution_count": 11,
   "metadata": {},
   "outputs": [],
   "source": [
    "df_incubation[\"duration\"] = pd.to_numeric(df_incubation[\"duration\"])\n",
    "df_incubation=df_incubation[df_incubation[\"duration\"]<40]"
   ]
  },
  {
   "cell_type": "code",
   "execution_count": 12,
   "metadata": {},
   "outputs": [
    {
     "data": {
      "text/plain": [
       "duration    9.335962\n",
       "dtype: float64"
      ]
     },
     "execution_count": 12,
     "metadata": {},
     "output_type": "execute_result"
    }
   ],
   "source": [
    "df_incubation.mean()"
   ]
  },
  {
   "cell_type": "code",
   "execution_count": null,
   "metadata": {},
   "outputs": [],
   "source": []
  },
  {
   "cell_type": "code",
   "execution_count": 13,
   "metadata": {},
   "outputs": [],
   "source": [
    "df_incubation=df_incubation.reset_index()\n",
    "df_incubation=df_incubation.reset_index()"
   ]
  },
  {
   "cell_type": "code",
   "execution_count": 14,
   "metadata": {},
   "outputs": [
    {
     "data": {
      "image/png": "[encoded data removed]",
      "text/plain": [
       "<Figure size 648x792 with 1 Axes>"
      ]
     },
     "metadata": {
      "needs_background": "light"
     },
     "output_type": "display_data"
    }
   ],
   "source": [
    "\n",
    "fig, ax1 = plt.subplots(figsize=(9,11))\n",
    "\n",
    "\n",
    "    \n",
    "ax1.set_title('Incubation Period', fontsize=25, color=\"black\")\n",
    "\n",
    "ax1=sns.barplot(x='level_0',y='duration', data=df_incubation,color = 'c')\n",
    "ax1.set_xlabel('Observation', fontsize=25)\n",
    "ax1.set_ylabel('Days', fontsize=16)\n",
    "\n",
    "color = 'tab:blue'\n",
    "\n",
    "\n",
    "plt.show()"
   ]
  },
  {
   "cell_type": "code",
   "execution_count": 15,
   "metadata": {},
   "outputs": [],
   "source": [
    "df_graph=df_incubation.rolling(75).mean()\n",
    "df_graph=df_graph.dropna()\n"
   ]
  },
  {
   "cell_type": "code",
   "execution_count": 16,
   "metadata": {},
   "outputs": [
    {
     "data": {
      "text/html": [
       "<div>\n",
       "<style scoped>\n",
       "    .dataframe tbody tr th:only-of-type {\n",
       "        vertical-align: middle;\n",
       "    }\n",
       "\n",
       "    .dataframe tbody tr th {\n",
       "        vertical-align: top;\n",
       "    }\n",
       "\n",
       "    .dataframe thead th {\n",
       "        text-align: right;\n",
       "    }\n",
       "</style>\n",
       "<table border=\"1\" class=\"dataframe\">\n",
       "  <thead>\n",
       "    <tr style=\"text-align: right;\">\n",
       "      <th></th>\n",
       "      <th>level_0</th>\n",
       "      <th>index</th>\n",
       "      <th>duration</th>\n",
       "    </tr>\n",
       "  </thead>\n",
       "  <tbody>\n",
       "    <tr>\n",
       "      <th>74</th>\n",
       "      <td>37.0</td>\n",
       "      <td>37.440000</td>\n",
       "      <td>7.653333</td>\n",
       "    </tr>\n",
       "    <tr>\n",
       "      <th>75</th>\n",
       "      <td>38.0</td>\n",
       "      <td>38.453333</td>\n",
       "      <td>7.560000</td>\n",
       "    </tr>\n",
       "    <tr>\n",
       "      <th>76</th>\n",
       "      <td>39.0</td>\n",
       "      <td>39.466667</td>\n",
       "      <td>7.520000</td>\n",
       "    </tr>\n",
       "    <tr>\n",
       "      <th>77</th>\n",
       "      <td>40.0</td>\n",
       "      <td>40.480000</td>\n",
       "      <td>7.520000</td>\n",
       "    </tr>\n",
       "    <tr>\n",
       "      <th>78</th>\n",
       "      <td>41.0</td>\n",
       "      <td>41.493333</td>\n",
       "      <td>7.760000</td>\n",
       "    </tr>\n",
       "  </tbody>\n",
       "</table>\n",
       "</div>"
      ],
      "text/plain": [
       "    level_0      index  duration\n",
       "74     37.0  37.440000  7.653333\n",
       "75     38.0  38.453333  7.560000\n",
       "76     39.0  39.466667  7.520000\n",
       "77     40.0  40.480000  7.520000\n",
       "78     41.0  41.493333  7.760000"
      ]
     },
     "execution_count": 16,
     "metadata": {},
     "output_type": "execute_result"
    }
   ],
   "source": [
    "df_graph.head()\n"
   ]
  },
  {
   "cell_type": "code",
   "execution_count": 18,
   "metadata": {},
   "outputs": [
    {
     "data": {
      "image/png": "[encoded data removed]",
      "text/plain": [
       "<Figure size 576x432 with 1 Axes>"
      ]
     },
     "metadata": {
      "needs_background": "light"
     },
     "output_type": "display_data"
    }
   ],
   "source": [
    "\n",
    "fig, ax1 = plt.subplots(figsize=(8,6))\n",
    "\n",
    "\n",
    "    \n",
    "ax1.set_title('Incubation Period', fontsize=25, color=\"black\")\n",
    "\n",
    "ax1=sns.barplot(x='level_0',y='duration', data=df_graph,color = 'c')\n",
    "ax1.set_xlabel('Observation', fontsize=25)\n",
    "ax1.set_ylabel('Days', fontsize=16)\n",
    "\n",
    "color = 'tab:blue'\n",
    "\n",
    "\n",
    "plt.show()"
   ]
  },
  {
   "cell_type": "code",
   "execution_count": null,
   "metadata": {},
   "outputs": [],
   "source": []
  }
 ],
 "metadata": {
  "kernelspec": {
   "display_name": "Python 3",
   "language": "python",
   "name": "python3"
  },
  "language_info": {
   "codemirror_mode": {
    "name": "ipython",
    "version": 3
   },
   "file_extension": ".py",
   "mimetype": "text/x-python",
   "name": "python",
   "nbconvert_exporter": "python",
   "pygments_lexer": "ipython3",
   "version": "3.7.0"
  }
 },
 "nbformat": 4,
 "nbformat_minor": 4
}
